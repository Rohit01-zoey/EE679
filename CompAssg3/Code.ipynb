{
 "cells": [
  {
   "cell_type": "markdown",
   "metadata": {},
   "source": [
    "# Importing libraries"
   ]
  },
  {
   "cell_type": "code",
   "execution_count": 1,
   "metadata": {},
   "outputs": [],
   "source": [
    "import os\n",
    "import numpy as np\n",
    "from scipy.io import wavfile\n",
    "import matplotlib.pyplot as plt \n",
    "from scipy.interpolate import interp1d\n",
    "from scipy.signal import tf2zpk, find_peaks, freqz\n",
    "from scipy.io.wavfile import write\n",
    "from librosa import feature \n",
    "from hmmlearn import hmm"
   ]
  },
  {
   "cell_type": "code",
   "execution_count": 122,
   "metadata": {},
   "outputs": [],
   "source": [
    "pathToData = r\"C:\\\\Users\\\\HP\\\\Downloads\\\\Commands Dataset\"\n",
    "pathToTrainingData = pathToData+\"\\\\train\"\n",
    "pathToCleanTest = pathToData+\"\\\\test_clean\"\n",
    "pathToNoisyTest = pathToData+\"\\\\test_noisy\""
   ]
  },
  {
   "cell_type": "markdown",
   "metadata": {},
   "source": [
    "# Reading and pre-processing the data"
   ]
  },
  {
   "cell_type": "markdown",
   "metadata": {},
   "source": [
    "## Pre emphasis"
   ]
  },
  {
   "cell_type": "markdown",
   "metadata": {},
   "source": [
    "Applying pre-emphasis to the signal\n",
    "\n",
    "We can do this by passing the signal througha filter : \n",
    "$$H(z) = (1 - \\alpha z^{-1}) \\text{ with $\\alpha$ very close to 1, typically = 0.95}$$\n",
    "$$\\implies y[n] = x[n] - \\alpha x[n-1]$$"
   ]
  },
  {
   "cell_type": "code",
   "execution_count": 3,
   "metadata": {},
   "outputs": [],
   "source": [
    "def applyPreEmphasis(data, alpha = 0.95):\n",
    "    alpha = 0.95#choosing the zero for pre-emphasis\n",
    "    dataPreEmph = np.array([data[n] - alpha*data[n-1] for n in range(1, len(data))])#gives singal from n=1 since we start from 1\n",
    "    dataPreEmph = np.insert(dataPreEmph, 0, data[0])#intial value is same as that of x[0]\n",
    "    return dataPreEmph"
   ]
  },
  {
   "cell_type": "markdown",
   "metadata": {},
   "source": [
    "## Reading and storing data"
   ]
  },
  {
   "cell_type": "code",
   "execution_count": 4,
   "metadata": {},
   "outputs": [
    {
     "name": "stdout",
     "output_type": "stream",
     "text": [
      "Reading 'down' speech data\n",
      "Reading 'go' speech data\n",
      "Reading 'left' speech data\n",
      "Reading 'no' speech data\n",
      "Reading 'off' speech data\n",
      "Reading 'on' speech data\n",
      "Reading 'right' speech data\n",
      "Reading 'stop' speech data\n",
      "Reading 'up' speech data\n",
      "Reading 'yes' speech data\n"
     ]
    }
   ],
   "source": [
    "trainingData = {}\n",
    "for label in os.listdir(pathToTrainingData):\n",
    "    print(f\"Reading '{label}' speech data\")\n",
    "    soundLabelAsArray = []\n",
    "    for labelInstance in os.listdir(pathToTrainingData+\"\\\\\"+label):\n",
    "        sampleRate, data = wavfile.read(pathToTrainingData+\"\\\\\"+label+\"\\\\\"+labelInstance) #storing the used sample rate and the wav file in variables for analysis\n",
    "        data = data/(32767.0)#Normalising the data\n",
    "        soundLabelAsArray.append(data)\n",
    "    trainingData[label] = soundLabelAsArray"
   ]
  },
  {
   "cell_type": "code",
   "execution_count": 5,
   "metadata": {},
   "outputs": [
    {
     "name": "stdout",
     "output_type": "stream",
     "text": [
      "Reading 'down' speech data\n",
      "Reading 'go' speech data\n",
      "Reading 'left' speech data\n",
      "Reading 'no' speech data\n",
      "Reading 'off' speech data\n",
      "Reading 'on' speech data\n",
      "Reading 'right' speech data\n",
      "Reading 'stop' speech data\n",
      "Reading 'up' speech data\n",
      "Reading 'yes' speech data\n"
     ]
    }
   ],
   "source": [
    "testCleanData = {}\n",
    "for label in os.listdir(pathToCleanTest):\n",
    "    print(f\"Reading '{label}' speech data\")\n",
    "    soundLabelAsArray = []\n",
    "    for labelInstance in os.listdir(pathToCleanTest+\"\\\\\"+label):\n",
    "        sampleRate, data = wavfile.read(pathToCleanTest+\"\\\\\"+label+\"\\\\\"+labelInstance) #storing the used sample rate and the wav file in variables for analysis\n",
    "        data = data/(32767.0)#Normalising the data\n",
    "        soundLabelAsArray.append(data)\n",
    "    testCleanData[label] = soundLabelAsArray"
   ]
  },
  {
   "cell_type": "code",
   "execution_count": 123,
   "metadata": {},
   "outputs": [
    {
     "name": "stdout",
     "output_type": "stream",
     "text": [
      "Reading 'down' speech data\n",
      "Reading 'go' speech data\n",
      "Reading 'left' speech data\n",
      "Reading 'no' speech data\n",
      "Reading 'off' speech data\n",
      "Reading 'on' speech data\n",
      "Reading 'right' speech data\n",
      "Reading 'stop' speech data\n",
      "Reading 'up' speech data\n",
      "Reading 'yes' speech data\n"
     ]
    }
   ],
   "source": [
    "testNoisyData = {}\n",
    "for label in os.listdir(pathToNoisyTest):\n",
    "    print(f\"Reading '{label}' speech data\")\n",
    "    soundLabelAsArray = []\n",
    "    for labelInstance in os.listdir(pathToNoisyTest+\"\\\\\"+label):\n",
    "        sampleRate, data = wavfile.read(pathToNoisyTest+\"\\\\\"+label+\"\\\\\"+labelInstance) #storing the used sample rate and the wav file in variables for analysis\n",
    "        data = data/(32767.0)#Normalising the data\n",
    "        soundLabelAsArray.append(data)\n",
    "    testNoisyData[label] = soundLabelAsArray"
   ]
  },
  {
   "cell_type": "markdown",
   "metadata": {},
   "source": [
    "---"
   ]
  },
  {
   "cell_type": "markdown",
   "metadata": {},
   "source": [
    "## Implementing end pointing of speech signal"
   ]
  },
  {
   "cell_type": "markdown",
   "metadata": {},
   "source": [
    "For this, I have used thresholding of normalised power spectra to first identify where speech has occured and then used this to find the entire length of the actual utterance.\n",
    "\n",
    "$$\\text{Normalised power} \\; P_N = 10 \\times log_{10} \\left ( \\frac{E}{E_{max}} \\right)$$\n",
    "\n",
    "$$\\text{Speech detected} \\; S = \\begin{cases}\n",
    "      1, & \\text{if}\\ P_N>=Threshold \\\\\n",
    "      0, & \\text{otherwise}\n",
    "    \\end{cases}$$\n",
    "\n",
    "After observing the speech patterns accross many words and utterances, $threshold\\;=\\;-40$ gives good end-pointing."
   ]
  },
  {
   "cell_type": "code",
   "execution_count": 102,
   "metadata": {},
   "outputs": [],
   "source": [
    "def energyNormalised(data, sampleRate, dur = 0.02):\n",
    "    '''\n",
    "    returns the power spectrum of the signal noramalised and the zero crossing rate of the signal'''\n",
    "    samples = int(sampleRate*dur) #length of each sample\n",
    "    ham = np.hamming(samples)\n",
    "    zcr = []\n",
    "    energy = []\n",
    "    halfSample = samples//2\n",
    "    paddedData = np.pad(data, (halfSample, halfSample), 'constant')#padding the signal\n",
    "    #pad the signal with halfsamples 0 ahead and before. then iterate over the indices point by point for thresholding\n",
    "    for i in range(halfSample, data.shape[0]):\n",
    "        signalAfterhamming = paddedData[i-halfSample:i+halfSample]*ham #sampling each fram 20ms long\n",
    "        #zcr.append((signalAfterhamming[:-1]*signalAfterhamming[1:]<0).sum())\n",
    "        energy.append(np.sum(signalAfterhamming*signalAfterhamming)) #energy of the signal\n",
    "    #returning normalised power spectrum of the signal\n",
    "    finenergy = np.where(np.array(energy) > 0.000000000000000000001, np.array(energy), -20) #thresholding to prevent log10 zero runtime warning\n",
    "    if max(finenergy)==0:\n",
    "        return 10*np.log10(finenergy, out=finenergy, where=finenergy > 0), np.array(zcr)\n",
    "    else:\n",
    "        return 10*np.log10(finenergy/max(finenergy), out=finenergy/max(finenergy), where=finenergy/max(finenergy) > 0), np.array(zcr)"
   ]
  },
  {
   "cell_type": "code",
   "execution_count": 96,
   "metadata": {},
   "outputs": [],
   "source": [
    "def vad(powerSpectrum, threshold):\n",
    "    flag = []\n",
    "    for i in powerSpectrum:\n",
    "        if i>=threshold:\n",
    "            flag.append(1.0)\n",
    "        else:\n",
    "            flag.append(0.0)\n",
    "    return np.array(flag)"
   ]
  },
  {
   "cell_type": "code",
   "execution_count": 97,
   "metadata": {},
   "outputs": [],
   "source": [
    "def voiceDetected(data, sampleRate, threshold, dur = 0.02):\n",
    "    power, _ = energyNormalised(data, sampleRate=sampleRate, dur = dur)\n",
    "    indSpeech = vad(power, threshold)\n",
    "    inds = np.where(indSpeech== 1)\n",
    "    return data[inds[0][0]:inds[0][-1]]"
   ]
  },
  {
   "cell_type": "code",
   "execution_count": 98,
   "metadata": {},
   "outputs": [
    {
     "data": {
      "text/plain": [
       "['down', 'go', 'left', 'no', 'off', 'on', 'right', 'stop', 'up', 'yes']"
      ]
     },
     "execution_count": 98,
     "metadata": {},
     "output_type": "execute_result"
    }
   ],
   "source": [
    "trainingLabels"
   ]
  },
  {
   "cell_type": "code",
   "execution_count": 121,
   "metadata": {},
   "outputs": [
    {
     "data": {
      "text/plain": [
       "Text(0, 0.5, 'Amplitude')"
      ]
     },
     "execution_count": 121,
     "metadata": {},
     "output_type": "execute_result"
    },
    {
     "data": {
      "image/png": "[encoded data removed]",
      "text/plain": [
       "<Figure size 864x576 with 3 Axes>"
      ]
     },
     "metadata": {
      "needs_background": "light"
     },
     "output_type": "display_data"
    }
   ],
   "source": [
    "plt.figure(figsize = (12, 8))\n",
    "plt.suptitle(\"Demonstration of end-pointing\")\n",
    "plt.tight_layout(pad=100)\n",
    "index = np.random.randint(1, 100)\n",
    "sig = trainingData[\"up\"][index]\n",
    "e, _ = energyNormalised(sig, sampleRate=sampleRate)\n",
    "plt.subplot(311)\n",
    "plt.plot(sig, label = \"signal(true)\")\n",
    "plt.plot(vad(e, -40), 'g', label = \"speech detection\")\n",
    "plt.xlabel(\"Time(samples)\")\n",
    "plt.ylabel(\"Amplitude\")\n",
    "plt.subplot(312)\n",
    "plt.plot(e, '.',label = \"Normalised power spectrum\")\n",
    "plt.xlabel(\"Time(samples)\")\n",
    "plt.ylabel(\"Normalised power(dB)\")\n",
    "plt.subplot(313)\n",
    "plt.plot(voiceDetected(sig, sampleRate, -40, dur = 0.02), label = \"End- pointed speech\")\n",
    "plt.xlabel(\"Time(samples)\")\n",
    "plt.ylabel(\"Amplitude\")\n"
   ]
  },
  {
   "cell_type": "markdown",
   "metadata": {},
   "source": [
    "---"
   ]
  },
  {
   "cell_type": "markdown",
   "metadata": {},
   "source": [
    "## Pre-processing the input data - train and test(clean)"
   ]
  },
  {
   "cell_type": "code",
   "execution_count": 103,
   "metadata": {},
   "outputs": [
    {
     "name": "stdout",
     "output_type": "stream",
     "text": [
      "Pre processing 'down' speech data\n",
      "Pre processing 'go' speech data\n",
      "Pre processing 'left' speech data\n",
      "Pre processing 'no' speech data\n",
      "Pre processing 'off' speech data\n",
      "Pre processing 'on' speech data\n",
      "Pre processing 'right' speech data\n",
      "Pre processing 'stop' speech data\n",
      "Pre processing 'up' speech data\n",
      "Pre processing 'yes' speech data\n"
     ]
    }
   ],
   "source": [
    "trainingLabels = [label for label in os.listdir(pathToTrainingData)]\n",
    "trainingDataPreProcessed = {}\n",
    "for label in trainingLabels:\n",
    "    print(f\"Pre processing '{label}' speech data\")\n",
    "    soundLabelAsArray = []\n",
    "    for i in range(len(trainingData[label])):\n",
    "        soundLabelAsArray.append(applyPreEmphasis(voiceDetected(trainingData[label][i], sampleRate,  threshold=-40, dur = 0.02), alpha = 0.95))\n",
    "    trainingDataPreProcessed[label] = soundLabelAsArray"
   ]
  },
  {
   "cell_type": "code",
   "execution_count": 104,
   "metadata": {},
   "outputs": [
    {
     "name": "stdout",
     "output_type": "stream",
     "text": [
      "Pre processing 'down' speech data\n",
      "Pre processing 'go' speech data\n",
      "Pre processing 'left' speech data\n",
      "Pre processing 'no' speech data\n",
      "Pre processing 'off' speech data\n",
      "Pre processing 'on' speech data\n",
      "Pre processing 'right' speech data\n",
      "Pre processing 'stop' speech data\n",
      "Pre processing 'up' speech data\n",
      "Pre processing 'yes' speech data\n"
     ]
    }
   ],
   "source": [
    "testCleanLabels = [label for label in os.listdir(pathToCleanTest)]\n",
    "cleanTestDataPreProcessed = {}\n",
    "for label in testCleanLabels:\n",
    "    print(f\"Pre processing '{label}' speech data\")\n",
    "    soundLabelAsArray = []\n",
    "    for i in range(len(testCleanData[label])):\n",
    "        soundLabelAsArray.append(applyPreEmphasis(voiceDetected(testCleanData[label][i], sampleRate,  threshold=-40, dur = 0.02), alpha = 0.95))\n",
    "    cleanTestDataPreProcessed[label] = soundLabelAsArray"
   ]
  },
  {
   "cell_type": "code",
   "execution_count": 124,
   "metadata": {},
   "outputs": [
    {
     "name": "stdout",
     "output_type": "stream",
     "text": [
      "Pre processing 'down' speech data\n",
      "Pre processing 'go' speech data\n",
      "Pre processing 'left' speech data\n",
      "Pre processing 'no' speech data\n",
      "Pre processing 'off' speech data\n",
      "Pre processing 'on' speech data\n",
      "Pre processing 'right' speech data\n",
      "Pre processing 'stop' speech data\n",
      "Pre processing 'up' speech data\n",
      "Pre processing 'yes' speech data\n"
     ]
    }
   ],
   "source": [
    "testNoisyLabels = [label for label in os.listdir(pathToNoisyTest)]\n",
    "noisyTestDataPreProcessed = {}\n",
    "for label in testNoisyLabels:\n",
    "    print(f\"Pre processing '{label}' speech data\")\n",
    "    soundLabelAsArray = []\n",
    "    for i in range(len(testNoisyData[label])):\n",
    "        soundLabelAsArray.append(applyPreEmphasis(voiceDetected(testNoisyData[label][i], sampleRate,  threshold=-40, dur = 0.02), alpha = 0.95))\n",
    "    noisyTestDataPreProcessed[label] = soundLabelAsArray"
   ]
  },
  {
   "cell_type": "code",
   "execution_count": 105,
   "metadata": {},
   "outputs": [
    {
     "data": {
      "text/plain": [
       "[<matplotlib.lines.Line2D at 0x20c205c12d0>]"
      ]
     },
     "execution_count": 105,
     "metadata": {},
     "output_type": "execute_result"
    },
    {
     "data": {
      "image/png": "[encoded data removed]",
      "text/plain": [
       "<Figure size 864x576 with 2 Axes>"
      ]
     },
     "metadata": {
      "needs_background": "light"
     },
     "output_type": "display_data"
    }
   ],
   "source": [
    "plt.figure(figsize=(12, 8))\n",
    "str = \"stop\"\n",
    "indx = 90\n",
    "plt.subplot(121)\n",
    "plt.plot(end_pointing(trainingData[str][indx],sampleRate))\n",
    "plt.subplot(122)\n",
    "plt.plot(trainingDataPreProcessed[str][indx])"
   ]
  },
  {
   "cell_type": "markdown",
   "metadata": {},
   "source": [
    "## MFCC feature extraction"
   ]
  },
  {
   "cell_type": "markdown",
   "metadata": {},
   "source": [
    "I have used the librosa library inate functions to compute the mfcc feature vector for each of the signal.\n",
    "\n",
    "Although its fast, it does not give me control over the windowing and frame length."
   ]
  },
  {
   "cell_type": "code",
   "execution_count": 106,
   "metadata": {},
   "outputs": [
    {
     "name": "stdout",
     "output_type": "stream",
     "text": [
      "Finding mel filter bank output for each instace of 'down' speech data\t\t....finished\n",
      "Finding mel filter bank output for each instace of 'go' speech data\t\t....finished\n",
      "Finding mel filter bank output for each instace of 'left' speech data\t\t....finished\n",
      "Finding mel filter bank output for each instace of 'no' speech data\t\t....finished\n",
      "Finding mel filter bank output for each instace of 'off' speech data\t\t"
     ]
    },
    {
     "name": "stderr",
     "output_type": "stream",
     "text": [
      "C:\\Users\\HP\\AppData\\Roaming\\Python\\Python310\\site-packages\\librosa\\util\\decorators.py:88: UserWarning: n_fft=2048 is too small for input signal of length=1208\n",
      "  return f(*args, **kwargs)\n"
     ]
    },
    {
     "name": "stdout",
     "output_type": "stream",
     "text": [
      "....finished\n",
      "Finding mel filter bank output for each instace of 'on' speech data\t\t"
     ]
    },
    {
     "name": "stderr",
     "output_type": "stream",
     "text": [
      "C:\\Users\\HP\\AppData\\Roaming\\Python\\Python310\\site-packages\\librosa\\util\\decorators.py:88: UserWarning: n_fft=2048 is too small for input signal of length=1755\n",
      "  return f(*args, **kwargs)\n"
     ]
    },
    {
     "name": "stdout",
     "output_type": "stream",
     "text": [
      "....finished\n",
      "Finding mel filter bank output for each instace of 'right' speech data\t\t"
     ]
    },
    {
     "name": "stderr",
     "output_type": "stream",
     "text": [
      "C:\\Users\\HP\\AppData\\Roaming\\Python\\Python310\\site-packages\\librosa\\util\\decorators.py:88: UserWarning: n_fft=2048 is too small for input signal of length=1727\n",
      "  return f(*args, **kwargs)\n",
      "C:\\Users\\HP\\AppData\\Roaming\\Python\\Python310\\site-packages\\librosa\\util\\decorators.py:88: UserWarning: n_fft=2048 is too small for input signal of length=841\n",
      "  return f(*args, **kwargs)\n"
     ]
    },
    {
     "name": "stdout",
     "output_type": "stream",
     "text": [
      "....finished\n",
      "Finding mel filter bank output for each instace of 'stop' speech data\t\t"
     ]
    },
    {
     "name": "stderr",
     "output_type": "stream",
     "text": [
      "C:\\Users\\HP\\AppData\\Roaming\\Python\\Python310\\site-packages\\librosa\\util\\decorators.py:88: UserWarning: n_fft=2048 is too small for input signal of length=999\n",
      "  return f(*args, **kwargs)\n"
     ]
    },
    {
     "name": "stdout",
     "output_type": "stream",
     "text": [
      "....finished\n",
      "Finding mel filter bank output for each instace of 'up' speech data\t\t....finished\n",
      "Finding mel filter bank output for each instace of 'yes' speech data\t\t"
     ]
    },
    {
     "name": "stderr",
     "output_type": "stream",
     "text": [
      "C:\\Users\\HP\\AppData\\Roaming\\Python\\Python310\\site-packages\\librosa\\util\\decorators.py:88: UserWarning: n_fft=2048 is too small for input signal of length=1269\n",
      "  return f(*args, **kwargs)\n",
      "C:\\Users\\HP\\AppData\\Roaming\\Python\\Python310\\site-packages\\librosa\\util\\decorators.py:88: UserWarning: n_fft=2048 is too small for input signal of length=357\n",
      "  return f(*args, **kwargs)\n"
     ]
    },
    {
     "name": "stdout",
     "output_type": "stream",
     "text": [
      "....finished\n"
     ]
    }
   ],
   "source": [
    "melCoef = {}\n",
    "for label in trainingLabels:\n",
    "    print(f\"Finding mel filter bank output for each instace of '{label}' speech data\", end = \"\\t\\t\")\n",
    "    mfccArrForLabel = []\n",
    "    for i in range(len(trainingDataPreProcessed[label])):\n",
    "        #n_fft = 4096, win_length = int(0.02*sampleRate), hop_length= int(0.005*sampleRate) set this parameters later\n",
    "        mfccFeatures = feature.mfcc(y=trainingDataPreProcessed[label][i], sr=sampleRate, n_mfcc=13)\n",
    "        delta1 = feature.delta(mfccFeatures, order=1, mode = 'nearest')\n",
    "        delta2 = feature.delta(mfccFeatures, order=2, mode = 'nearest')\n",
    "        mfccArrForLabel.append(np.r_[mfccFeatures, delta1, delta2])\n",
    "    print(\"....finished\")\n",
    "    melCoef[label] = mfccArrForLabel"
   ]
  },
  {
   "cell_type": "code",
   "execution_count": 107,
   "metadata": {},
   "outputs": [
    {
     "name": "stdout",
     "output_type": "stream",
     "text": [
      "Finding mel filter bank output for each instace of 'down' speech data\t\t....finished\n",
      "Finding mel filter bank output for each instace of 'go' speech data\t\t....finished\n",
      "Finding mel filter bank output for each instace of 'left' speech data\t\t....finished\n",
      "Finding mel filter bank output for each instace of 'no' speech data\t\t....finished\n",
      "Finding mel filter bank output for each instace of 'off' speech data\t\t....finished\n",
      "Finding mel filter bank output for each instace of 'on' speech data\t\t....finished\n",
      "Finding mel filter bank output for each instace of 'right' speech data\t\t....finished\n",
      "Finding mel filter bank output for each instace of 'stop' speech data\t\t....finished\n",
      "Finding mel filter bank output for each instace of 'up' speech data\t\t....finished\n",
      "Finding mel filter bank output for each instace of 'yes' speech data\t\t....finished\n"
     ]
    }
   ],
   "source": [
    "melCoefCleanTest = {}\n",
    "for label in testCleanLabels:\n",
    "    print(f\"Finding mel filter bank output for each instace of '{label}' speech data\", end = \"\\t\\t\")\n",
    "    mfccArrForLabel = []\n",
    "    for i in range(len(cleanTestDataPreProcessed[label])):\n",
    "        #n_fft = 4096, win_length = int(0.02*sampleRate), hop_length= int(0.005*sampleRate) set this parameters later\n",
    "        mfccFeatures = feature.mfcc(y=cleanTestDataPreProcessed[label][i], sr=sampleRate, n_mfcc=13)\n",
    "        delta1 = feature.delta(mfccFeatures, order=1, mode = 'nearest')\n",
    "        delta2 = feature.delta(mfccFeatures, order=2, mode = 'nearest')\n",
    "        mfccArrForLabel.append(np.r_[mfccFeatures, delta1, delta2])\n",
    "    print(\"....finished\")\n",
    "    melCoefCleanTest[label] = mfccArrForLabel"
   ]
  },
  {
   "cell_type": "code",
   "execution_count": 125,
   "metadata": {},
   "outputs": [
    {
     "name": "stdout",
     "output_type": "stream",
     "text": [
      "Finding mel filter bank output for each instace of 'down' speech data\t\t....finished\n",
      "Finding mel filter bank output for each instace of 'go' speech data\t\t....finished\n",
      "Finding mel filter bank output for each instace of 'left' speech data\t\t....finished\n",
      "Finding mel filter bank output for each instace of 'no' speech data\t\t....finished\n",
      "Finding mel filter bank output for each instace of 'off' speech data\t\t....finished\n",
      "Finding mel filter bank output for each instace of 'on' speech data\t\t....finished\n",
      "Finding mel filter bank output for each instace of 'right' speech data\t\t....finished\n",
      "Finding mel filter bank output for each instace of 'stop' speech data\t\t....finished\n",
      "Finding mel filter bank output for each instace of 'up' speech data\t\t....finished\n",
      "Finding mel filter bank output for each instace of 'yes' speech data\t\t"
     ]
    },
    {
     "name": "stderr",
     "output_type": "stream",
     "text": [
      "C:\\Users\\HP\\AppData\\Roaming\\Python\\Python310\\site-packages\\librosa\\util\\decorators.py:88: UserWarning: n_fft=2048 is too small for input signal of length=1269\n",
      "  return f(*args, **kwargs)\n"
     ]
    },
    {
     "name": "stdout",
     "output_type": "stream",
     "text": [
      "....finished\n"
     ]
    }
   ],
   "source": [
    "melCoefNoisyTest = {}\n",
    "for label in testNoisyLabels:\n",
    "    print(f\"Finding mel filter bank output for each instace of '{label}' speech data\", end = \"\\t\\t\")\n",
    "    mfccArrForLabel = []\n",
    "    for i in range(len(noisyTestDataPreProcessed[label])):\n",
    "        #n_fft = 4096, win_length = int(0.02*sampleRate), hop_length= int(0.005*sampleRate) set this parameters later\n",
    "        mfccFeatures = feature.mfcc(y=noisyTestDataPreProcessed[label][i], sr=sampleRate, n_mfcc=13)\n",
    "        delta1 = feature.delta(mfccFeatures, order=1, mode = 'nearest')\n",
    "        delta2 = feature.delta(mfccFeatures, order=2, mode = 'nearest')\n",
    "        mfccArrForLabel.append(np.r_[mfccFeatures, delta1, delta2])\n",
    "    print(\"....finished\")\n",
    "    melCoefNoisyTest[label] = mfccArrForLabel"
   ]
  },
  {
   "cell_type": "code",
   "execution_count": 28,
   "metadata": {},
   "outputs": [
    {
     "data": {
      "text/plain": [
       "['down', 'go', 'left', 'no', 'off', 'on', 'right', 'stop', 'up', 'yes']"
      ]
     },
     "execution_count": 28,
     "metadata": {},
     "output_type": "execute_result"
    }
   ],
   "source": [
    "trainingLabels"
   ]
  },
  {
   "cell_type": "code",
   "execution_count": 108,
   "metadata": {},
   "outputs": [
    {
     "data": {
      "text/plain": [
       "[Text(0.5, 1.0, 'MFCC')]"
      ]
     },
     "execution_count": 108,
     "metadata": {},
     "output_type": "execute_result"
    },
    {
     "data": {
      "image/png": "[encoded data removed]",
      "text/plain": [
       "<Figure size 432x288 with 4 Axes>"
      ]
     },
     "metadata": {
      "needs_background": "light"
     },
     "output_type": "display_data"
    }
   ],
   "source": [
    "import librosa\n",
    "import librosa.display\n",
    "dur = 0.01\n",
    "y, sr = trainingDataPreProcessed[\"yes\"][90], sampleRate\n",
    "S = librosa.feature.melspectrogram(y=y, sr=sr, n_mels=40, win_length = int(0.02*sampleRate), hop_length= int(0.005*sampleRate),\n",
    "                                   fmax=8000)\n",
    "mfccs = librosa.feature.mfcc(y=y, sr=sr, n_mfcc=40, win_length = int(0.02*sampleRate), hop_length= int(0.005*sampleRate))\n",
    "fig, ax = plt.subplots(nrows=2, sharex=True)\n",
    "img = librosa.display.specshow(librosa.power_to_db(S, ref=np.max),\n",
    "                               x_axis='time', y_axis='mel', fmax=8000,\n",
    "                               ax=ax[0])\n",
    "fig.colorbar(img, ax=[ax[0]])\n",
    "ax[0].set(title='Mel spectrogram')\n",
    "ax[0].label_outer()\n",
    "img = librosa.display.specshow(mfccs, x_axis='time', ax=ax[1])\n",
    "fig.colorbar(img, ax=[ax[1]])\n",
    "ax[1].set(title='MFCC')"
   ]
  },
  {
   "cell_type": "code",
   "execution_count": 29,
   "metadata": {},
   "outputs": [
    {
     "data": {
      "text/plain": [
       "array([[1, 2, 3],\n",
       "       [1, 2, 6],\n",
       "       [1, 2, 8]])"
      ]
     },
     "execution_count": 29,
     "metadata": {},
     "output_type": "execute_result"
    }
   ],
   "source": [
    "np.vstack((np.array([1,2, 3]),np.array([[1,2, 6], [1,2, 8]])))"
   ]
  },
  {
   "cell_type": "code",
   "execution_count": 152,
   "metadata": {},
   "outputs": [
    {
     "data": {
      "text/plain": [
       "(17, 39)"
      ]
     },
     "execution_count": 152,
     "metadata": {},
     "output_type": "execute_result"
    }
   ],
   "source": [
    "melCoef[\"down\"][0].shape"
   ]
  },
  {
   "cell_type": "code",
   "execution_count": 157,
   "metadata": {},
   "outputs": [],
   "source": [
    "curr_train = melCoef[\"down\"][0].T\n",
    "for i in range(1, len(melCoef[\"down\"])):\n",
    "    curr_train = np.vstack((curr_train, melCoef[\"down\"][i].T))"
   ]
  },
  {
   "cell_type": "markdown",
   "metadata": {},
   "source": [
    "# Training the models for each word"
   ]
  },
  {
   "cell_type": "markdown",
   "metadata": {},
   "source": [
    "I was not able to come with model parameters on my own. I discussed with friends for choosing optimal paramters since the trianing times for GMM-HMM models were too big"
   ]
  },
  {
   "cell_type": "code",
   "execution_count": 108,
   "metadata": {},
   "outputs": [
    {
     "name": "stdout",
     "output_type": "stream",
     "text": [
      "dict_keys(['down', 'go', 'left', 'no', 'off', 'on', 'right', 'stop', 'up', 'yes'])\n",
      "down\n",
      "go\n",
      "left\n",
      "no\n",
      "off\n",
      "on\n",
      "right\n",
      "stop\n",
      "up\n",
      "yes\n"
     ]
    }
   ],
   "source": [
    "trained_model = {}\n",
    "hmmStates = 9\n",
    "gmmStates = 3\n",
    "\n",
    "print(melCoef.keys())\n",
    "\n",
    "for word in melCoef.keys():\n",
    "    print(word)\n",
    "    #model = hmm.GaussianHMM(n_components = hmm_states, covariance_type='full', n_iter=7)\n",
    "    model = hmm.GMMHMM(n_components=hmmStates, n_mix = gmmStates, n_iter=10 , covariance_type='full' )\n",
    "    current_training_data = melCoef[word]\n",
    "    l = np.zeros([len(current_training_data), ], dtype=int)\n",
    "    i = 0\n",
    "\n",
    "    while i < int(len(current_training_data)):\n",
    "        l[i] = current_training_data[i].shape[1]\n",
    "        i += 1\n",
    "    curr_train = melCoef[word][0].T\n",
    "    for i in range(1, len(melCoef[word])):\n",
    "        curr_train = np.vstack((curr_train, melCoef[word][i].T))\n",
    "    \n",
    "    #current_training_data = np.vstack(current_training_data)\n",
    "    model.fit(curr_train, lengths=l)\n",
    "    trained_model[word] = model"
   ]
  },
  {
   "cell_type": "markdown",
   "metadata": {},
   "source": [
    "# Prediction"
   ]
  },
  {
   "cell_type": "markdown",
   "metadata": {},
   "source": [
    "## Predicition on clean data"
   ]
  },
  {
   "cell_type": "code",
   "execution_count": 109,
   "metadata": {},
   "outputs": [],
   "source": [
    "finalPredictedClean = {}\n",
    "for utt in melCoef.keys():\n",
    "    scores = []\n",
    "    for i in range(len(melCoefCleanTest[utt])):\n",
    "        logList = []\n",
    "        for word in melCoef.keys():\n",
    "            logList.append(trained_model[word].score(melCoefCleanTest[utt][i].T))\n",
    "        scores.append(list(melCoef.keys())[logList.index(max(logList))])\n",
    "    finalPredictedClean[utt] = scores"
   ]
  },
  {
   "cell_type": "markdown",
   "metadata": {},
   "source": [
    "## Prediction on noisy data"
   ]
  },
  {
   "cell_type": "markdown",
   "metadata": {},
   "source": []
  },
  {
   "cell_type": "code",
   "execution_count": 126,
   "metadata": {},
   "outputs": [],
   "source": [
    "finalPredictedNoisy = {}\n",
    "for utt in melCoef.keys():\n",
    "    scores = []\n",
    "    for i in range(len(melCoefNoisyTest[utt])):\n",
    "        logList = []\n",
    "        for word in melCoef.keys():\n",
    "            logList.append(trained_model[word].score(melCoefNoisyTest[utt][i].T))\n",
    "        scores.append(list(melCoef.keys())[logList.index(max(logList))])\n",
    "    finalPredictedNoisy[utt] = scores"
   ]
  },
  {
   "cell_type": "markdown",
   "metadata": {},
   "source": [
    "# Calculating accuracies"
   ]
  },
  {
   "cell_type": "markdown",
   "metadata": {},
   "source": [
    "## Computing the accuracies for each word classification"
   ]
  },
  {
   "cell_type": "code",
   "execution_count": 110,
   "metadata": {},
   "outputs": [],
   "source": [
    "finalAccuraciesClean = {}\n",
    "for utt in melCoef.keys():\n",
    "    accPred = []\n",
    "    for word in melCoef.keys():\n",
    "        acc = 0\n",
    "        for i in finalPredictedClean[utt]:\n",
    "            if i==word:\n",
    "                acc+=1\n",
    "        accPred.append(acc/len(melCoefCleanTest[utt]))\n",
    "    finalAccuraciesClean[utt] = accPred"
   ]
  },
  {
   "cell_type": "code",
   "execution_count": 127,
   "metadata": {},
   "outputs": [],
   "source": [
    "finalAccuraciesNoisy = {}\n",
    "for utt in melCoef.keys():\n",
    "    accPred = []\n",
    "    for word in melCoef.keys():\n",
    "        acc = 0\n",
    "        for i in finalPredictedNoisy[utt]:\n",
    "            if i==word:\n",
    "                acc+=1\n",
    "        accPred.append(acc/len(melCoefNoisyTest[utt]))\n",
    "    finalAccuraciesNoisy[utt] = accPred"
   ]
  },
  {
   "cell_type": "code",
   "execution_count": 111,
   "metadata": {},
   "outputs": [
    {
     "data": {
      "text/html": [
       "<div>\n",
       "<style scoped>\n",
       "    .dataframe tbody tr th:only-of-type {\n",
       "        vertical-align: middle;\n",
       "    }\n",
       "\n",
       "    .dataframe tbody tr th {\n",
       "        vertical-align: top;\n",
       "    }\n",
       "\n",
       "    .dataframe thead th {\n",
       "        text-align: right;\n",
       "    }\n",
       "</style>\n",
       "<table border=\"1\" class=\"dataframe\">\n",
       "  <thead>\n",
       "    <tr style=\"text-align: right;\">\n",
       "      <th></th>\n",
       "      <th>down</th>\n",
       "      <th>go</th>\n",
       "      <th>left</th>\n",
       "      <th>no</th>\n",
       "      <th>off</th>\n",
       "      <th>on</th>\n",
       "      <th>right</th>\n",
       "      <th>stop</th>\n",
       "      <th>up</th>\n",
       "      <th>yes</th>\n",
       "    </tr>\n",
       "  </thead>\n",
       "  <tbody>\n",
       "    <tr>\n",
       "      <th>0</th>\n",
       "      <td>0.960474</td>\n",
       "      <td>0.003984</td>\n",
       "      <td>0.003745</td>\n",
       "      <td>0.015873</td>\n",
       "      <td>0.000000</td>\n",
       "      <td>0.004065</td>\n",
       "      <td>0.007722</td>\n",
       "      <td>0.004016</td>\n",
       "      <td>0.0</td>\n",
       "      <td>0.000000</td>\n",
       "    </tr>\n",
       "    <tr>\n",
       "      <th>1</th>\n",
       "      <td>0.011858</td>\n",
       "      <td>0.980080</td>\n",
       "      <td>0.000000</td>\n",
       "      <td>0.039683</td>\n",
       "      <td>0.000000</td>\n",
       "      <td>0.004065</td>\n",
       "      <td>0.007722</td>\n",
       "      <td>0.004016</td>\n",
       "      <td>0.0</td>\n",
       "      <td>0.000000</td>\n",
       "    </tr>\n",
       "    <tr>\n",
       "      <th>2</th>\n",
       "      <td>0.003953</td>\n",
       "      <td>0.000000</td>\n",
       "      <td>0.981273</td>\n",
       "      <td>0.007937</td>\n",
       "      <td>0.003817</td>\n",
       "      <td>0.000000</td>\n",
       "      <td>0.000000</td>\n",
       "      <td>0.000000</td>\n",
       "      <td>0.0</td>\n",
       "      <td>0.003906</td>\n",
       "    </tr>\n",
       "    <tr>\n",
       "      <th>3</th>\n",
       "      <td>0.023715</td>\n",
       "      <td>0.015936</td>\n",
       "      <td>0.003745</td>\n",
       "      <td>0.928571</td>\n",
       "      <td>0.007634</td>\n",
       "      <td>0.000000</td>\n",
       "      <td>0.003861</td>\n",
       "      <td>0.008032</td>\n",
       "      <td>0.0</td>\n",
       "      <td>0.003906</td>\n",
       "    </tr>\n",
       "    <tr>\n",
       "      <th>4</th>\n",
       "      <td>0.000000</td>\n",
       "      <td>0.000000</td>\n",
       "      <td>0.000000</td>\n",
       "      <td>0.000000</td>\n",
       "      <td>0.958015</td>\n",
       "      <td>0.004065</td>\n",
       "      <td>0.000000</td>\n",
       "      <td>0.000000</td>\n",
       "      <td>0.0</td>\n",
       "      <td>0.000000</td>\n",
       "    </tr>\n",
       "    <tr>\n",
       "      <th>5</th>\n",
       "      <td>0.000000</td>\n",
       "      <td>0.000000</td>\n",
       "      <td>0.000000</td>\n",
       "      <td>0.003968</td>\n",
       "      <td>0.015267</td>\n",
       "      <td>0.975610</td>\n",
       "      <td>0.000000</td>\n",
       "      <td>0.000000</td>\n",
       "      <td>0.0</td>\n",
       "      <td>0.003906</td>\n",
       "    </tr>\n",
       "    <tr>\n",
       "      <th>6</th>\n",
       "      <td>0.000000</td>\n",
       "      <td>0.000000</td>\n",
       "      <td>0.000000</td>\n",
       "      <td>0.000000</td>\n",
       "      <td>0.000000</td>\n",
       "      <td>0.000000</td>\n",
       "      <td>0.980695</td>\n",
       "      <td>0.000000</td>\n",
       "      <td>0.0</td>\n",
       "      <td>0.000000</td>\n",
       "    </tr>\n",
       "    <tr>\n",
       "      <th>7</th>\n",
       "      <td>0.000000</td>\n",
       "      <td>0.000000</td>\n",
       "      <td>0.000000</td>\n",
       "      <td>0.000000</td>\n",
       "      <td>0.000000</td>\n",
       "      <td>0.000000</td>\n",
       "      <td>0.000000</td>\n",
       "      <td>0.983936</td>\n",
       "      <td>0.0</td>\n",
       "      <td>0.000000</td>\n",
       "    </tr>\n",
       "    <tr>\n",
       "      <th>8</th>\n",
       "      <td>0.000000</td>\n",
       "      <td>0.000000</td>\n",
       "      <td>0.007491</td>\n",
       "      <td>0.003968</td>\n",
       "      <td>0.015267</td>\n",
       "      <td>0.012195</td>\n",
       "      <td>0.000000</td>\n",
       "      <td>0.000000</td>\n",
       "      <td>1.0</td>\n",
       "      <td>0.000000</td>\n",
       "    </tr>\n",
       "    <tr>\n",
       "      <th>9</th>\n",
       "      <td>0.000000</td>\n",
       "      <td>0.000000</td>\n",
       "      <td>0.003745</td>\n",
       "      <td>0.000000</td>\n",
       "      <td>0.000000</td>\n",
       "      <td>0.000000</td>\n",
       "      <td>0.000000</td>\n",
       "      <td>0.000000</td>\n",
       "      <td>0.0</td>\n",
       "      <td>0.988281</td>\n",
       "    </tr>\n",
       "  </tbody>\n",
       "</table>\n",
       "</div>"
      ],
      "text/plain": [
       "       down        go      left        no       off        on     right  \\\n",
       "0  0.960474  0.003984  0.003745  0.015873  0.000000  0.004065  0.007722   \n",
       "1  0.011858  0.980080  0.000000  0.039683  0.000000  0.004065  0.007722   \n",
       "2  0.003953  0.000000  0.981273  0.007937  0.003817  0.000000  0.000000   \n",
       "3  0.023715  0.015936  0.003745  0.928571  0.007634  0.000000  0.003861   \n",
       "4  0.000000  0.000000  0.000000  0.000000  0.958015  0.004065  0.000000   \n",
       "5  0.000000  0.000000  0.000000  0.003968  0.015267  0.975610  0.000000   \n",
       "6  0.000000  0.000000  0.000000  0.000000  0.000000  0.000000  0.980695   \n",
       "7  0.000000  0.000000  0.000000  0.000000  0.000000  0.000000  0.000000   \n",
       "8  0.000000  0.000000  0.007491  0.003968  0.015267  0.012195  0.000000   \n",
       "9  0.000000  0.000000  0.003745  0.000000  0.000000  0.000000  0.000000   \n",
       "\n",
       "       stop   up       yes  \n",
       "0  0.004016  0.0  0.000000  \n",
       "1  0.004016  0.0  0.000000  \n",
       "2  0.000000  0.0  0.003906  \n",
       "3  0.008032  0.0  0.003906  \n",
       "4  0.000000  0.0  0.000000  \n",
       "5  0.000000  0.0  0.003906  \n",
       "6  0.000000  0.0  0.000000  \n",
       "7  0.983936  0.0  0.000000  \n",
       "8  0.000000  1.0  0.000000  \n",
       "9  0.000000  0.0  0.988281  "
      ]
     },
     "execution_count": 111,
     "metadata": {},
     "output_type": "execute_result"
    }
   ],
   "source": [
    "import pandas as pd\n",
    "\n",
    "df = pd.DataFrame.from_dict(finalAccuraciesClean)\n",
    "df"
   ]
  },
  {
   "cell_type": "code",
   "execution_count": 128,
   "metadata": {},
   "outputs": [
    {
     "data": {
      "text/html": [
       "<div>\n",
       "<style scoped>\n",
       "    .dataframe tbody tr th:only-of-type {\n",
       "        vertical-align: middle;\n",
       "    }\n",
       "\n",
       "    .dataframe tbody tr th {\n",
       "        vertical-align: top;\n",
       "    }\n",
       "\n",
       "    .dataframe thead th {\n",
       "        text-align: right;\n",
       "    }\n",
       "</style>\n",
       "<table border=\"1\" class=\"dataframe\">\n",
       "  <thead>\n",
       "    <tr style=\"text-align: right;\">\n",
       "      <th></th>\n",
       "      <th>down</th>\n",
       "      <th>go</th>\n",
       "      <th>left</th>\n",
       "      <th>no</th>\n",
       "      <th>off</th>\n",
       "      <th>on</th>\n",
       "      <th>right</th>\n",
       "      <th>stop</th>\n",
       "      <th>up</th>\n",
       "      <th>yes</th>\n",
       "    </tr>\n",
       "  </thead>\n",
       "  <tbody>\n",
       "    <tr>\n",
       "      <th>0</th>\n",
       "      <td>0.794466</td>\n",
       "      <td>0.055777</td>\n",
       "      <td>0.014981</td>\n",
       "      <td>0.103175</td>\n",
       "      <td>0.000000</td>\n",
       "      <td>0.036585</td>\n",
       "      <td>0.007722</td>\n",
       "      <td>0.004016</td>\n",
       "      <td>0.011029</td>\n",
       "      <td>0.007812</td>\n",
       "    </tr>\n",
       "    <tr>\n",
       "      <th>1</th>\n",
       "      <td>0.098814</td>\n",
       "      <td>0.848606</td>\n",
       "      <td>0.029963</td>\n",
       "      <td>0.246032</td>\n",
       "      <td>0.022901</td>\n",
       "      <td>0.052846</td>\n",
       "      <td>0.069498</td>\n",
       "      <td>0.080321</td>\n",
       "      <td>0.062500</td>\n",
       "      <td>0.007812</td>\n",
       "    </tr>\n",
       "    <tr>\n",
       "      <th>2</th>\n",
       "      <td>0.011858</td>\n",
       "      <td>0.007968</td>\n",
       "      <td>0.823970</td>\n",
       "      <td>0.019841</td>\n",
       "      <td>0.011450</td>\n",
       "      <td>0.004065</td>\n",
       "      <td>0.111969</td>\n",
       "      <td>0.016064</td>\n",
       "      <td>0.058824</td>\n",
       "      <td>0.027344</td>\n",
       "    </tr>\n",
       "    <tr>\n",
       "      <th>3</th>\n",
       "      <td>0.011858</td>\n",
       "      <td>0.007968</td>\n",
       "      <td>0.003745</td>\n",
       "      <td>0.543651</td>\n",
       "      <td>0.003817</td>\n",
       "      <td>0.000000</td>\n",
       "      <td>0.000000</td>\n",
       "      <td>0.004016</td>\n",
       "      <td>0.000000</td>\n",
       "      <td>0.000000</td>\n",
       "    </tr>\n",
       "    <tr>\n",
       "      <th>4</th>\n",
       "      <td>0.023715</td>\n",
       "      <td>0.023904</td>\n",
       "      <td>0.014981</td>\n",
       "      <td>0.027778</td>\n",
       "      <td>0.885496</td>\n",
       "      <td>0.138211</td>\n",
       "      <td>0.000000</td>\n",
       "      <td>0.040161</td>\n",
       "      <td>0.099265</td>\n",
       "      <td>0.015625</td>\n",
       "    </tr>\n",
       "    <tr>\n",
       "      <th>5</th>\n",
       "      <td>0.000000</td>\n",
       "      <td>0.007968</td>\n",
       "      <td>0.000000</td>\n",
       "      <td>0.000000</td>\n",
       "      <td>0.019084</td>\n",
       "      <td>0.743902</td>\n",
       "      <td>0.011583</td>\n",
       "      <td>0.000000</td>\n",
       "      <td>0.000000</td>\n",
       "      <td>0.011719</td>\n",
       "    </tr>\n",
       "    <tr>\n",
       "      <th>6</th>\n",
       "      <td>0.000000</td>\n",
       "      <td>0.000000</td>\n",
       "      <td>0.000000</td>\n",
       "      <td>0.000000</td>\n",
       "      <td>0.000000</td>\n",
       "      <td>0.000000</td>\n",
       "      <td>0.741313</td>\n",
       "      <td>0.000000</td>\n",
       "      <td>0.000000</td>\n",
       "      <td>0.000000</td>\n",
       "    </tr>\n",
       "    <tr>\n",
       "      <th>7</th>\n",
       "      <td>0.015810</td>\n",
       "      <td>0.027888</td>\n",
       "      <td>0.007491</td>\n",
       "      <td>0.015873</td>\n",
       "      <td>0.015267</td>\n",
       "      <td>0.004065</td>\n",
       "      <td>0.007722</td>\n",
       "      <td>0.835341</td>\n",
       "      <td>0.044118</td>\n",
       "      <td>0.003906</td>\n",
       "    </tr>\n",
       "    <tr>\n",
       "      <th>8</th>\n",
       "      <td>0.011858</td>\n",
       "      <td>0.007968</td>\n",
       "      <td>0.014981</td>\n",
       "      <td>0.011905</td>\n",
       "      <td>0.030534</td>\n",
       "      <td>0.020325</td>\n",
       "      <td>0.015444</td>\n",
       "      <td>0.008032</td>\n",
       "      <td>0.713235</td>\n",
       "      <td>0.007812</td>\n",
       "    </tr>\n",
       "    <tr>\n",
       "      <th>9</th>\n",
       "      <td>0.031621</td>\n",
       "      <td>0.011952</td>\n",
       "      <td>0.089888</td>\n",
       "      <td>0.031746</td>\n",
       "      <td>0.011450</td>\n",
       "      <td>0.000000</td>\n",
       "      <td>0.034749</td>\n",
       "      <td>0.012048</td>\n",
       "      <td>0.011029</td>\n",
       "      <td>0.917969</td>\n",
       "    </tr>\n",
       "  </tbody>\n",
       "</table>\n",
       "</div>"
      ],
      "text/plain": [
       "       down        go      left        no       off        on     right  \\\n",
       "0  0.794466  0.055777  0.014981  0.103175  0.000000  0.036585  0.007722   \n",
       "1  0.098814  0.848606  0.029963  0.246032  0.022901  0.052846  0.069498   \n",
       "2  0.011858  0.007968  0.823970  0.019841  0.011450  0.004065  0.111969   \n",
       "3  0.011858  0.007968  0.003745  0.543651  0.003817  0.000000  0.000000   \n",
       "4  0.023715  0.023904  0.014981  0.027778  0.885496  0.138211  0.000000   \n",
       "5  0.000000  0.007968  0.000000  0.000000  0.019084  0.743902  0.011583   \n",
       "6  0.000000  0.000000  0.000000  0.000000  0.000000  0.000000  0.741313   \n",
       "7  0.015810  0.027888  0.007491  0.015873  0.015267  0.004065  0.007722   \n",
       "8  0.011858  0.007968  0.014981  0.011905  0.030534  0.020325  0.015444   \n",
       "9  0.031621  0.011952  0.089888  0.031746  0.011450  0.000000  0.034749   \n",
       "\n",
       "       stop        up       yes  \n",
       "0  0.004016  0.011029  0.007812  \n",
       "1  0.080321  0.062500  0.007812  \n",
       "2  0.016064  0.058824  0.027344  \n",
       "3  0.004016  0.000000  0.000000  \n",
       "4  0.040161  0.099265  0.015625  \n",
       "5  0.000000  0.000000  0.011719  \n",
       "6  0.000000  0.000000  0.000000  \n",
       "7  0.835341  0.044118  0.003906  \n",
       "8  0.008032  0.713235  0.007812  \n",
       "9  0.012048  0.011029  0.917969  "
      ]
     },
     "execution_count": 128,
     "metadata": {},
     "output_type": "execute_result"
    }
   ],
   "source": [
    "dfNoisy = pd.DataFrame.from_dict(finalAccuraciesNoisy)\n",
    "dfNoisy"
   ]
  },
  {
   "cell_type": "markdown",
   "metadata": {},
   "source": [
    "## Accuracy heatmaps"
   ]
  },
  {
   "cell_type": "code",
   "execution_count": 112,
   "metadata": {},
   "outputs": [
    {
     "data": {
      "image/png": "[encoded data removed]",
      "text/plain": [
       "<Figure size 792x648 with 2 Axes>"
      ]
     },
     "metadata": {
      "needs_background": "light"
     },
     "output_type": "display_data"
    }
   ],
   "source": [
    "import seaborn as sns\n",
    "fig, ax = plt.subplots(figsize=(11, 9))\n",
    "sns.heatmap(df, cmap = 'jet')\n",
    "plt.show()"
   ]
  },
  {
   "cell_type": "code",
   "execution_count": 129,
   "metadata": {},
   "outputs": [
    {
     "data": {
      "image/png": "[encoded data removed]",
      "text/plain": [
       "<Figure size 792x648 with 2 Axes>"
      ]
     },
     "metadata": {
      "needs_background": "light"
     },
     "output_type": "display_data"
    }
   ],
   "source": [
    "fig, ax = plt.subplots(figsize=(11, 9))\n",
    "sns.heatmap(dfNoisy, cmap = 'jet')\n",
    "plt.show()"
   ]
  },
  {
   "cell_type": "code",
   "execution_count": null,
   "metadata": {},
   "outputs": [],
   "source": []
  }
 ],
 "metadata": {
  "kernelspec": {
   "display_name": "Python 3.10.5 64-bit",
   "language": "python",
   "name": "python3"
  },
  "language_info": {
   "codemirror_mode": {
    "name": "ipython",
    "version": 3
   },
   "file_extension": ".py",
   "mimetype": "text/x-python",
   "name": "python",
   "nbconvert_exporter": "python",
   "pygments_lexer": "ipython3",
   "version": "3.10.5"
  },
  "orig_nbformat": 4,
  "vscode": {
   "interpreter": {
    "hash": "26de051ba29f2982a8de78e945f0abaf191376122a1563185a90213a26c5da77"
   }
  }
 },
 "nbformat": 4,
 "nbformat_minor": 2
}
